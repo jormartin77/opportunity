{
 "cells": [
  {
   "cell_type": "code",
   "execution_count": 2,
   "metadata": {},
   "outputs": [],
   "source": [
    "import pandas as pd\n",
    "import numpy as np\n",
    "from scipy.stats import mode\n",
    "import seaborn as sns\n",
    "from sklearn.model_selection import train_test_split\n",
    "import matplotlib.pyplot as plt\n",
    "from sklearn.ensemble import RandomForestClassifier\n",
    "from sklearn.metrics import classification_report, confusion_matrix, accuracy_score\n",
    "import pandas_profiling\n",
    "from datetime import datetime"
   ]
  },
  {
   "cell_type": "code",
   "execution_count": 7,
   "metadata": {},
   "outputs": [],
   "source": [
    "def num_to_letter(number):\n",
    "    switcher = {\n",
    "        1: \"A\",\n",
    "        2: \"C\",\n",
    "        3: \"L\",\n",
    "        4: \"M\",\n",
    "        5: \"O\",\n",
    "        6: \"U\"\n",
    "    }\n",
    "    return switcher.get(number, \"Invalid month\")"
   ]
  },
  {
   "cell_type": "code",
   "execution_count": 20,
   "metadata": {},
   "outputs": [
    {
     "name": "stdout",
     "output_type": "stream",
     "text": [
      "A-2-1.csv\n"
     ]
    },
    {
     "name": "stderr",
     "output_type": "stream",
     "text": [
      "/Users/yure/Documents/UN/Machine Learning/ml/lib/python3.7/site-packages/ipykernel_launcher.py:20: SettingWithCopyWarning: \n",
      "A value is trying to be set on a copy of a slice from a DataFrame\n",
      "\n",
      "See the caveats in the documentation: http://pandas.pydata.org/pandas-docs/stable/indexing.html#indexing-view-versus-copy\n"
     ]
    }
   ],
   "source": [
    "path = 'dataset-proyecto/' #enter thepath for the dataset folder\n",
    "num_letters = range(1,2) #7\n",
    "trials = range(1,2) #6\n",
    "users=range(2,3) #6\n",
    "fsadl1= pd.DataFrame()\n",
    "\n",
    "for num_letter in num_letters:\n",
    "    letter = num_to_letter(num_letter)\n",
    "    for user in users:\n",
    "        for trial in trials:\n",
    "            file_name = path+str(letter)+'-'+str(user)+'-'+str(trial)+'.csv'\n",
    "            print(str(letter)+'-'+str(user)+'-'+str(trial)+'.csv')\n",
    "            fsadl1 = pd.read_csv(file_name, sep=';', decimal=',')\n",
    "            \n",
    "            \n",
    "            fsadl1[fsadl1.columns[1]] = pd.to_datetime(fsadl1[fsadl1.columns[1]], format='%H.%M.%S.%f', errors='ignore')\n",
    "            #print(fsadl1.dtypes)\n",
    "            for ind in range(0,len(fsadl1.index)):\n",
    "                resta= fsadl1[fsadl1.columns[1]][ind] - fsadl1[fsadl1.columns[1]][0]\n",
    "                fsadl1[fsadl1.columns[2]][ind] =  resta.total_seconds()*1000\n",
    "            fsadl1.to_csv(path+str(letter)+'-'+str(user)+'-'+str(trial)+'PP.csv')"
   ]
  },
  {
   "cell_type": "code",
   "execution_count": null,
   "metadata": {},
   "outputs": [],
   "source": []
  }
 ],
 "metadata": {
  "kernelspec": {
   "display_name": "Python 3",
   "language": "python",
   "name": "python3"
  },
  "language_info": {
   "codemirror_mode": {
    "name": "ipython",
    "version": 3
   },
   "file_extension": ".py",
   "mimetype": "text/x-python",
   "name": "python",
   "nbconvert_exporter": "python",
   "pygments_lexer": "ipython3",
   "version": "3.7.1"
  }
 },
 "nbformat": 4,
 "nbformat_minor": 2
}
