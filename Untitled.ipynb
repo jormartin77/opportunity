{
 "cells": [
  {
   "cell_type": "code",
   "execution_count": null,
   "metadata": {},
   "outputs": [],
   "source": [
    "num_letters = range(1,7) #7\n",
    "trials = range(1,3) #6\n",
    "users=range(2,6) #6\n",
    "\n",
    "for num_letter in num_letters:\n",
    "    letter = num_to_letter(num_letter)\n",
    "    for user in users:\n",
    "        for trial in trials:\n",
    "            file_name = path+str(letter)+'-'+str(user)+'-'+str(trial)+'.csv'\n",
    "            fsadl1 = pd.read_csv(file_name, sep=';', decimal=',', names=fheader)\n",
    "            for ind in range(0,len(fdata.index)):\n",
    "                resta= fdata.fecha[ind] - fdata.fecha[0]\n",
    "                fdata.MILLISEC[ind] =  resta.total_seconds()*1000\n",
    "            all_data_1S.to_csv(path+str(letter)+'-'+str(user)+'-'+str(trial)+'.csv')"
   ]
  }
 ],
 "metadata": {
  "kernelspec": {
   "display_name": "Python 3",
   "language": "python",
   "name": "python3"
  },
  "language_info": {
   "codemirror_mode": {
    "name": "ipython",
    "version": 3
   },
   "file_extension": ".py",
   "mimetype": "text/x-python",
   "name": "python",
   "nbconvert_exporter": "python",
   "pygments_lexer": "ipython3",
   "version": "3.7.1"
  }
 },
 "nbformat": 4,
 "nbformat_minor": 2
}
